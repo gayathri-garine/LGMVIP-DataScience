{
  "nbformat": 4,
  "nbformat_minor": 0,
  "metadata": {
    "colab": {
      "name": "stock.ipynb",
      "provenance": [],
      "authorship_tag": "ABX9TyOqS68RPBaoTlCib3EF9Vz9",
      "include_colab_link": true
    },
    "kernelspec": {
      "name": "python3",
      "display_name": "Python 3"
    },
    "language_info": {
      "name": "python"
    }
  },
  "cells": [
    {
      "cell_type": "markdown",
      "metadata": {
        "id": "view-in-github",
        "colab_type": "text"
      },
      "source": [
        "<a href=\"https://colab.research.google.com/github/gayathri-garine/LGMVIP-DataScience/blob/main/stock.ipynb\" target=\"_parent\"><img src=\"https://colab.research.google.com/assets/colab-badge.svg\" alt=\"Open In Colab\"/></a>"
      ]
    },
    {
      "cell_type": "code",
      "metadata": {
        "id": "WOEEESnO5dI3"
      },
      "source": [
        "import numpy as np\n",
        "import math\n",
        "import matplotlib.pyplot as plt\n",
        "from sklearn.preprocessing import MinMaxScaler\n",
        "from sklearn.metrics import mean_squared_error\n",
        "import tensorflow as tf\n",
        "from tensorflow.python.keras.models import Sequential\n",
        "from tensorflow.python.keras.layers import Dense\n",
        "from tensorflow.python.keras.layers import LSTM\n",
        "%matplotlib inline"
      ],
      "execution_count": 13,
      "outputs": []
    },
    {
      "cell_type": "code",
      "metadata": {
        "colab": {
          "base_uri": "https://localhost:8080/",
          "height": 204
        },
        "id": "waWMmymwKghR",
        "outputId": "5fc62014-4a94-425e-e6bc-ce86eaa11802"
      },
      "source": [
        "df = pd.read_csv('Book1.csv')\n",
        "df = df.dropna()\n",
        "df.head()"
      ],
      "execution_count": 16,
      "outputs": [
        {
          "output_type": "execute_result",
          "data": {
            "text/html": [
              "<div>\n",
              "<style scoped>\n",
              "    .dataframe tbody tr th:only-of-type {\n",
              "        vertical-align: middle;\n",
              "    }\n",
              "\n",
              "    .dataframe tbody tr th {\n",
              "        vertical-align: top;\n",
              "    }\n",
              "\n",
              "    .dataframe thead th {\n",
              "        text-align: right;\n",
              "    }\n",
              "</style>\n",
              "<table border=\"1\" class=\"dataframe\">\n",
              "  <thead>\n",
              "    <tr style=\"text-align: right;\">\n",
              "      <th></th>\n",
              "      <th>Date</th>\n",
              "      <th>Open</th>\n",
              "      <th>High</th>\n",
              "      <th>Low</th>\n",
              "      <th>Last</th>\n",
              "      <th>Close</th>\n",
              "      <th>Total Trade Quantity</th>\n",
              "      <th>Turnover (Lacs)</th>\n",
              "    </tr>\n",
              "  </thead>\n",
              "  <tbody>\n",
              "    <tr>\n",
              "      <th>0</th>\n",
              "      <td>08-10-2018</td>\n",
              "      <td>208.00</td>\n",
              "      <td>222.25</td>\n",
              "      <td>206.85</td>\n",
              "      <td>216.00</td>\n",
              "      <td>215.15</td>\n",
              "      <td>4642146</td>\n",
              "      <td>10062.83</td>\n",
              "    </tr>\n",
              "    <tr>\n",
              "      <th>1</th>\n",
              "      <td>05-10-2018</td>\n",
              "      <td>217.00</td>\n",
              "      <td>218.60</td>\n",
              "      <td>205.90</td>\n",
              "      <td>210.25</td>\n",
              "      <td>209.20</td>\n",
              "      <td>3519515</td>\n",
              "      <td>7407.06</td>\n",
              "    </tr>\n",
              "    <tr>\n",
              "      <th>2</th>\n",
              "      <td>04-10-2018</td>\n",
              "      <td>223.50</td>\n",
              "      <td>227.80</td>\n",
              "      <td>216.15</td>\n",
              "      <td>217.25</td>\n",
              "      <td>218.20</td>\n",
              "      <td>1728786</td>\n",
              "      <td>3815.79</td>\n",
              "    </tr>\n",
              "    <tr>\n",
              "      <th>3</th>\n",
              "      <td>03-10-2018</td>\n",
              "      <td>230.00</td>\n",
              "      <td>237.50</td>\n",
              "      <td>225.75</td>\n",
              "      <td>226.45</td>\n",
              "      <td>227.60</td>\n",
              "      <td>1708590</td>\n",
              "      <td>3960.27</td>\n",
              "    </tr>\n",
              "    <tr>\n",
              "      <th>4</th>\n",
              "      <td>01-10-2018</td>\n",
              "      <td>234.55</td>\n",
              "      <td>234.60</td>\n",
              "      <td>221.05</td>\n",
              "      <td>230.30</td>\n",
              "      <td>230.90</td>\n",
              "      <td>1534749</td>\n",
              "      <td>3486.05</td>\n",
              "    </tr>\n",
              "  </tbody>\n",
              "</table>\n",
              "</div>"
            ],
            "text/plain": [
              "         Date    Open    High  ...   Close  Total Trade Quantity  Turnover (Lacs)\n",
              "0  08-10-2018  208.00  222.25  ...  215.15               4642146         10062.83\n",
              "1  05-10-2018  217.00  218.60  ...  209.20               3519515          7407.06\n",
              "2  04-10-2018  223.50  227.80  ...  218.20               1728786          3815.79\n",
              "3  03-10-2018  230.00  237.50  ...  227.60               1708590          3960.27\n",
              "4  01-10-2018  234.55  234.60  ...  230.90               1534749          3486.05\n",
              "\n",
              "[5 rows x 8 columns]"
            ]
          },
          "metadata": {},
          "execution_count": 16
        }
      ]
    },
    {
      "cell_type": "code",
      "metadata": {
        "colab": {
          "base_uri": "https://localhost:8080/",
          "height": 204
        },
        "id": "lfJkW-bTJJHw",
        "outputId": "62d696f0-c449-4d25-8fc4-94178a930570"
      },
      "source": [
        "df.tail()"
      ],
      "execution_count": 17,
      "outputs": [
        {
          "output_type": "execute_result",
          "data": {
            "text/html": [
              "<div>\n",
              "<style scoped>\n",
              "    .dataframe tbody tr th:only-of-type {\n",
              "        vertical-align: middle;\n",
              "    }\n",
              "\n",
              "    .dataframe tbody tr th {\n",
              "        vertical-align: top;\n",
              "    }\n",
              "\n",
              "    .dataframe thead th {\n",
              "        text-align: right;\n",
              "    }\n",
              "</style>\n",
              "<table border=\"1\" class=\"dataframe\">\n",
              "  <thead>\n",
              "    <tr style=\"text-align: right;\">\n",
              "      <th></th>\n",
              "      <th>Date</th>\n",
              "      <th>Open</th>\n",
              "      <th>High</th>\n",
              "      <th>Low</th>\n",
              "      <th>Last</th>\n",
              "      <th>Close</th>\n",
              "      <th>Total Trade Quantity</th>\n",
              "      <th>Turnover (Lacs)</th>\n",
              "    </tr>\n",
              "  </thead>\n",
              "  <tbody>\n",
              "    <tr>\n",
              "      <th>1230</th>\n",
              "      <td>14-10-2013</td>\n",
              "      <td>160.85</td>\n",
              "      <td>161.45</td>\n",
              "      <td>157.70</td>\n",
              "      <td>159.3</td>\n",
              "      <td>159.45</td>\n",
              "      <td>1281419</td>\n",
              "      <td>2039.09</td>\n",
              "    </tr>\n",
              "    <tr>\n",
              "      <th>1231</th>\n",
              "      <td>11-10-2013</td>\n",
              "      <td>161.15</td>\n",
              "      <td>163.45</td>\n",
              "      <td>159.00</td>\n",
              "      <td>159.8</td>\n",
              "      <td>160.05</td>\n",
              "      <td>1880046</td>\n",
              "      <td>3030.76</td>\n",
              "    </tr>\n",
              "    <tr>\n",
              "      <th>1232</th>\n",
              "      <td>10-10-2013</td>\n",
              "      <td>156.00</td>\n",
              "      <td>160.80</td>\n",
              "      <td>155.85</td>\n",
              "      <td>160.3</td>\n",
              "      <td>160.15</td>\n",
              "      <td>3124853</td>\n",
              "      <td>4978.80</td>\n",
              "    </tr>\n",
              "    <tr>\n",
              "      <th>1233</th>\n",
              "      <td>09-10-2013</td>\n",
              "      <td>155.70</td>\n",
              "      <td>158.20</td>\n",
              "      <td>154.15</td>\n",
              "      <td>155.3</td>\n",
              "      <td>155.55</td>\n",
              "      <td>2049580</td>\n",
              "      <td>3204.49</td>\n",
              "    </tr>\n",
              "    <tr>\n",
              "      <th>1234</th>\n",
              "      <td>08-10-2013</td>\n",
              "      <td>157.00</td>\n",
              "      <td>157.80</td>\n",
              "      <td>155.20</td>\n",
              "      <td>155.8</td>\n",
              "      <td>155.80</td>\n",
              "      <td>1720413</td>\n",
              "      <td>2688.94</td>\n",
              "    </tr>\n",
              "  </tbody>\n",
              "</table>\n",
              "</div>"
            ],
            "text/plain": [
              "            Date    Open    High  ...   Close  Total Trade Quantity  Turnover (Lacs)\n",
              "1230  14-10-2013  160.85  161.45  ...  159.45               1281419          2039.09\n",
              "1231  11-10-2013  161.15  163.45  ...  160.05               1880046          3030.76\n",
              "1232  10-10-2013  156.00  160.80  ...  160.15               3124853          4978.80\n",
              "1233  09-10-2013  155.70  158.20  ...  155.55               2049580          3204.49\n",
              "1234  08-10-2013  157.00  157.80  ...  155.80               1720413          2688.94\n",
              "\n",
              "[5 rows x 8 columns]"
            ]
          },
          "metadata": {},
          "execution_count": 17
        }
      ]
    },
    {
      "cell_type": "code",
      "metadata": {
        "id": "hU8ZApV5JQsd",
        "colab": {
          "base_uri": "https://localhost:8080/"
        },
        "outputId": "6a84d14f-c2e6-46a4-f801-79aa900cc4d2"
      },
      "source": [
        "df_close = df['Close']\n",
        "df_close.shape"
      ],
      "execution_count": 18,
      "outputs": [
        {
          "output_type": "execute_result",
          "data": {
            "text/plain": [
              "(1235,)"
            ]
          },
          "metadata": {},
          "execution_count": 18
        }
      ]
    },
    {
      "cell_type": "code",
      "metadata": {
        "colab": {
          "base_uri": "https://localhost:8080/",
          "height": 282
        },
        "id": "Dx5sHEM4M69Y",
        "outputId": "688a3aee-de6c-4189-9fa6-b4457c46312f"
      },
      "source": [
        "plt.plot(df_close)"
      ],
      "execution_count": 19,
      "outputs": [
        {
          "output_type": "execute_result",
          "data": {
            "text/plain": [
              "[<matplotlib.lines.Line2D at 0x7f3006ec6110>]"
            ]
          },
          "metadata": {},
          "execution_count": 19
        },
        {
          "output_type": "display_data",
          "data": {
            "image/png": "[encoded data removed]",
            "text/plain": [
              "<Figure size 432x288 with 1 Axes>"
            ]
          },
          "metadata": {
            "needs_background": "light"
          }
        }
      ]
    },
    {
      "cell_type": "code",
      "metadata": {
        "colab": {
          "base_uri": "https://localhost:8080/"
        },
        "id": "wCdJatXsM99Q",
        "outputId": "fac197ab-f0e7-40f6-ad69-4b9b709769f6"
      },
      "source": [
        "scaler = MinMaxScaler(feature_range = (0,1))\n",
        "df_close = scaler.fit_transform(np.array(df_close).reshape(-1,1))\n",
        "df_close.shape"
      ],
      "execution_count": 20,
      "outputs": [
        {
          "output_type": "execute_result",
          "data": {
            "text/plain": [
              "(1235, 1)"
            ]
          },
          "metadata": {},
          "execution_count": 20
        }
      ]
    },
    {
      "cell_type": "code",
      "metadata": {
        "colab": {
          "base_uri": "https://localhost:8080/"
        },
        "id": "Oiio7hSJNDut",
        "outputId": "fc102ce2-07fd-4707-c6fd-85457bfab58f"
      },
      "source": [
        "df_close"
      ],
      "execution_count": 21,
      "outputs": [
        {
          "output_type": "execute_result",
          "data": {
            "text/plain": [
              "array([[0.50425818],\n",
              "       [0.47758853],\n",
              "       [0.51792918],\n",
              "       ...,\n",
              "       [0.25773196],\n",
              "       [0.2371134 ],\n",
              "       [0.23823398]])"
            ]
          },
          "metadata": {},
          "execution_count": 21
        }
      ]
    },
    {
      "cell_type": "code",
      "metadata": {
        "id": "oQEqydbqNKkU"
      },
      "source": [
        "training_size = int(len(df_close) * 0.75)\n",
        "test_size = len(df_close) - training_size\n",
        "train_data, test_data = df_close[0:training_size,:], df_close[training_size:len(df_close),:1]\n",
        "\n"
      ],
      "execution_count": 22,
      "outputs": []
    },
    {
      "cell_type": "code",
      "metadata": {
        "id": "DaurvScrNYy0"
      },
      "source": [
        "def create_dataset(dataset, time_step = 1):\n",
        "    dataX, dataY = [], []\n",
        "    for i in range(len(dataset) - time_step - 1):\n",
        "        a = dataset[i:(i+time_step), 0]\n",
        "        dataX.append(a)\n",
        "        dataY.append(dataset[i+time_step, 0])\n",
        "    return np.array(dataX), np.array(dataY)\n",
        "\n"
      ],
      "execution_count": 23,
      "outputs": []
    },
    {
      "cell_type": "code",
      "metadata": {
        "id": "My7hYkz9Nc3u"
      },
      "source": [
        "time_step = 100\n",
        "x_train, y_train = create_dataset(train_data, time_step)\n",
        "x_test, y_test = create_dataset(test_data, time_step)\n",
        "\n"
      ],
      "execution_count": 24,
      "outputs": []
    },
    {
      "cell_type": "code",
      "metadata": {
        "id": "UP_JJyVfNiLw"
      },
      "source": [
        "x_train = x_train.reshape(x_train.shape[0], x_train.shape[1], 1)\n",
        "x_test = x_test.reshape(x_test.shape[0], x_test.shape[1], 1)\n"
      ],
      "execution_count": 26,
      "outputs": []
    },
    {
      "cell_type": "code",
      "metadata": {
        "id": "GWoTCGU2No9X"
      },
      "source": [
        "model = Sequential()\n",
        "model.add(LSTM(50, return_sequences = True, input_shape = (100,1)))\n",
        "model.add(LSTM(50, return_sequences = True))\n",
        "model.add(LSTM(50))\n",
        "model.add(Dense(1))\n",
        "model.compile(loss = 'mean_squared_error', optimizer = 'adam')\n"
      ],
      "execution_count": 27,
      "outputs": []
    },
    {
      "cell_type": "code",
      "metadata": {
        "colab": {
          "base_uri": "https://localhost:8080/"
        },
        "id": "KWdsAUiSNtQa",
        "outputId": "a4799a50-b06d-494d-f4d5-bef6271ce322"
      },
      "source": [
        "model.summary()"
      ],
      "execution_count": 28,
      "outputs": [
        {
          "output_type": "stream",
          "name": "stdout",
          "text": [
            "Model: \"sequential\"\n",
            "_________________________________________________________________\n",
            "Layer (type)                 Output Shape              Param #   \n",
            "=================================================================\n",
            "lstm (LSTM)                  (None, 100, 50)           10400     \n",
            "_________________________________________________________________\n",
            "lstm_1 (LSTM)                (None, 100, 50)           20200     \n",
            "_________________________________________________________________\n",
            "lstm_2 (LSTM)                (None, 50)                20200     \n",
            "_________________________________________________________________\n",
            "dense (Dense)                (None, 1)                 51        \n",
            "=================================================================\n",
            "Total params: 50,851\n",
            "Trainable params: 50,851\n",
            "Non-trainable params: 0\n",
            "_________________________________________________________________\n"
          ]
        }
      ]
    },
    {
      "cell_type": "code",
      "metadata": {
        "colab": {
          "base_uri": "https://localhost:8080/"
        },
        "id": "F1OyhO9bNzip",
        "outputId": "7e46e621-cd83-4685-e46a-8baddb3af9d0"
      },
      "source": [
        "model.fit(x_train, y_train, validation_data = (x_test, y_test), epochs = 100, batch_size = 64, verbose = 1)\n"
      ],
      "execution_count": 29,
      "outputs": [
        {
          "output_type": "stream",
          "name": "stdout",
          "text": [
            "Epoch 1/100\n",
            "13/13 [==============================] - 13s 440ms/step - loss: 0.0424 - val_loss: 0.0011\n",
            "Epoch 2/100\n",
            "13/13 [==============================] - 5s 377ms/step - loss: 0.0079 - val_loss: 0.0015\n",
            "Epoch 3/100\n",
            "13/13 [==============================] - 5s 374ms/step - loss: 0.0031 - val_loss: 0.0012\n",
            "Epoch 4/100\n",
            "13/13 [==============================] - 5s 376ms/step - loss: 0.0025 - val_loss: 0.0011\n",
            "Epoch 5/100\n",
            "13/13 [==============================] - 5s 377ms/step - loss: 0.0023 - val_loss: 0.0011\n",
            "Epoch 6/100\n",
            "13/13 [==============================] - 5s 380ms/step - loss: 0.0022 - val_loss: 0.0011\n",
            "Epoch 7/100\n",
            "13/13 [==============================] - 5s 377ms/step - loss: 0.0022 - val_loss: 0.0010\n",
            "Epoch 8/100\n",
            "13/13 [==============================] - 5s 377ms/step - loss: 0.0021 - val_loss: 0.0010\n",
            "Epoch 9/100\n",
            "13/13 [==============================] - 5s 373ms/step - loss: 0.0020 - val_loss: 0.0011\n",
            "Epoch 10/100\n",
            "13/13 [==============================] - 5s 371ms/step - loss: 0.0019 - val_loss: 9.6317e-04\n",
            "Epoch 11/100\n",
            "13/13 [==============================] - 5s 379ms/step - loss: 0.0020 - val_loss: 9.9785e-04\n",
            "Epoch 12/100\n",
            "13/13 [==============================] - 5s 380ms/step - loss: 0.0018 - val_loss: 9.3720e-04\n",
            "Epoch 13/100\n",
            "13/13 [==============================] - 5s 375ms/step - loss: 0.0017 - val_loss: 0.0010\n",
            "Epoch 14/100\n",
            "13/13 [==============================] - 5s 376ms/step - loss: 0.0017 - val_loss: 0.0010\n",
            "Epoch 15/100\n",
            "13/13 [==============================] - 5s 378ms/step - loss: 0.0017 - val_loss: 8.9557e-04\n",
            "Epoch 16/100\n",
            "13/13 [==============================] - 5s 378ms/step - loss: 0.0017 - val_loss: 0.0011\n",
            "Epoch 17/100\n",
            "13/13 [==============================] - 5s 381ms/step - loss: 0.0020 - val_loss: 9.1879e-04\n",
            "Epoch 18/100\n",
            "13/13 [==============================] - 5s 379ms/step - loss: 0.0018 - val_loss: 8.8160e-04\n",
            "Epoch 19/100\n",
            "13/13 [==============================] - 5s 380ms/step - loss: 0.0015 - val_loss: 0.0010\n",
            "Epoch 20/100\n",
            "13/13 [==============================] - 5s 378ms/step - loss: 0.0015 - val_loss: 8.4330e-04\n",
            "Epoch 21/100\n",
            "13/13 [==============================] - 5s 381ms/step - loss: 0.0015 - val_loss: 8.7696e-04\n",
            "Epoch 22/100\n",
            "13/13 [==============================] - 5s 381ms/step - loss: 0.0015 - val_loss: 8.4027e-04\n",
            "Epoch 23/100\n",
            "13/13 [==============================] - 5s 378ms/step - loss: 0.0014 - val_loss: 9.7599e-04\n",
            "Epoch 24/100\n",
            "13/13 [==============================] - 5s 379ms/step - loss: 0.0013 - val_loss: 9.8109e-04\n",
            "Epoch 25/100\n",
            "13/13 [==============================] - 5s 378ms/step - loss: 0.0015 - val_loss: 8.0562e-04\n",
            "Epoch 26/100\n",
            "13/13 [==============================] - 5s 382ms/step - loss: 0.0013 - val_loss: 9.4585e-04\n",
            "Epoch 27/100\n",
            "13/13 [==============================] - 5s 384ms/step - loss: 0.0014 - val_loss: 8.7713e-04\n",
            "Epoch 28/100\n",
            "13/13 [==============================] - 5s 382ms/step - loss: 0.0015 - val_loss: 9.2468e-04\n",
            "Epoch 29/100\n",
            "13/13 [==============================] - 5s 381ms/step - loss: 0.0015 - val_loss: 8.6343e-04\n",
            "Epoch 30/100\n",
            "13/13 [==============================] - 5s 379ms/step - loss: 0.0014 - val_loss: 8.1665e-04\n",
            "Epoch 31/100\n",
            "13/13 [==============================] - 5s 381ms/step - loss: 0.0014 - val_loss: 8.3350e-04\n",
            "Epoch 32/100\n",
            "13/13 [==============================] - 5s 378ms/step - loss: 0.0013 - val_loss: 7.3511e-04\n",
            "Epoch 33/100\n",
            "13/13 [==============================] - 5s 375ms/step - loss: 0.0013 - val_loss: 7.9518e-04\n",
            "Epoch 34/100\n",
            "13/13 [==============================] - 5s 378ms/step - loss: 0.0012 - val_loss: 7.6865e-04\n",
            "Epoch 35/100\n",
            "13/13 [==============================] - 5s 376ms/step - loss: 0.0011 - val_loss: 7.4387e-04\n",
            "Epoch 36/100\n",
            "13/13 [==============================] - 5s 378ms/step - loss: 0.0011 - val_loss: 7.2097e-04\n",
            "Epoch 37/100\n",
            "13/13 [==============================] - 5s 377ms/step - loss: 0.0011 - val_loss: 7.2592e-04\n",
            "Epoch 38/100\n",
            "13/13 [==============================] - 5s 377ms/step - loss: 0.0011 - val_loss: 7.1243e-04\n",
            "Epoch 39/100\n",
            "13/13 [==============================] - 5s 377ms/step - loss: 0.0011 - val_loss: 7.3628e-04\n",
            "Epoch 40/100\n",
            "13/13 [==============================] - 5s 376ms/step - loss: 0.0010 - val_loss: 7.3985e-04\n",
            "Epoch 41/100\n",
            "13/13 [==============================] - 5s 373ms/step - loss: 0.0010 - val_loss: 7.1132e-04\n",
            "Epoch 42/100\n",
            "13/13 [==============================] - 5s 374ms/step - loss: 0.0011 - val_loss: 8.1200e-04\n",
            "Epoch 43/100\n",
            "13/13 [==============================] - 5s 377ms/step - loss: 0.0011 - val_loss: 6.6820e-04\n",
            "Epoch 44/100\n",
            "13/13 [==============================] - 5s 370ms/step - loss: 9.5850e-04 - val_loss: 6.7237e-04\n",
            "Epoch 45/100\n",
            "13/13 [==============================] - 5s 374ms/step - loss: 9.2590e-04 - val_loss: 7.0724e-04\n",
            "Epoch 46/100\n",
            "13/13 [==============================] - 5s 373ms/step - loss: 0.0010 - val_loss: 6.6415e-04\n",
            "Epoch 47/100\n",
            "13/13 [==============================] - 5s 376ms/step - loss: 0.0011 - val_loss: 7.4334e-04\n",
            "Epoch 48/100\n",
            "13/13 [==============================] - 5s 374ms/step - loss: 9.1704e-04 - val_loss: 6.3867e-04\n",
            "Epoch 49/100\n",
            "13/13 [==============================] - 5s 378ms/step - loss: 8.7871e-04 - val_loss: 6.5667e-04\n",
            "Epoch 50/100\n",
            "13/13 [==============================] - 5s 374ms/step - loss: 9.0474e-04 - val_loss: 6.3286e-04\n",
            "Epoch 51/100\n",
            "13/13 [==============================] - 5s 380ms/step - loss: 8.8151e-04 - val_loss: 6.1801e-04\n",
            "Epoch 52/100\n",
            "13/13 [==============================] - 5s 374ms/step - loss: 0.0010 - val_loss: 7.3779e-04\n",
            "Epoch 53/100\n",
            "13/13 [==============================] - 5s 377ms/step - loss: 9.9962e-04 - val_loss: 7.2365e-04\n",
            "Epoch 54/100\n",
            "13/13 [==============================] - 5s 373ms/step - loss: 9.8867e-04 - val_loss: 6.1016e-04\n",
            "Epoch 55/100\n",
            "13/13 [==============================] - 5s 378ms/step - loss: 8.2628e-04 - val_loss: 5.9806e-04\n",
            "Epoch 56/100\n",
            "13/13 [==============================] - 5s 376ms/step - loss: 8.6750e-04 - val_loss: 5.9081e-04\n",
            "Epoch 57/100\n",
            "13/13 [==============================] - 5s 379ms/step - loss: 8.5348e-04 - val_loss: 6.0247e-04\n",
            "Epoch 58/100\n",
            "13/13 [==============================] - 5s 378ms/step - loss: 8.8109e-04 - val_loss: 6.5961e-04\n",
            "Epoch 59/100\n",
            "13/13 [==============================] - 5s 379ms/step - loss: 7.8153e-04 - val_loss: 6.4859e-04\n",
            "Epoch 60/100\n",
            "13/13 [==============================] - 5s 378ms/step - loss: 7.4972e-04 - val_loss: 6.3052e-04\n",
            "Epoch 61/100\n",
            "13/13 [==============================] - 5s 379ms/step - loss: 9.1362e-04 - val_loss: 5.8730e-04\n",
            "Epoch 62/100\n",
            "13/13 [==============================] - 5s 377ms/step - loss: 7.9450e-04 - val_loss: 6.0188e-04\n",
            "Epoch 63/100\n",
            "13/13 [==============================] - 5s 380ms/step - loss: 8.3772e-04 - val_loss: 5.7839e-04\n",
            "Epoch 64/100\n",
            "13/13 [==============================] - 5s 378ms/step - loss: 7.5331e-04 - val_loss: 5.4845e-04\n",
            "Epoch 65/100\n",
            "13/13 [==============================] - 5s 372ms/step - loss: 7.5948e-04 - val_loss: 5.7374e-04\n",
            "Epoch 66/100\n",
            "13/13 [==============================] - 5s 380ms/step - loss: 7.2496e-04 - val_loss: 5.3522e-04\n",
            "Epoch 67/100\n",
            "13/13 [==============================] - 5s 374ms/step - loss: 7.2552e-04 - val_loss: 6.7414e-04\n",
            "Epoch 68/100\n",
            "13/13 [==============================] - 5s 377ms/step - loss: 8.9541e-04 - val_loss: 5.7437e-04\n",
            "Epoch 69/100\n",
            "13/13 [==============================] - 5s 379ms/step - loss: 7.4521e-04 - val_loss: 5.6841e-04\n",
            "Epoch 70/100\n",
            "13/13 [==============================] - 5s 376ms/step - loss: 6.6682e-04 - val_loss: 5.3046e-04\n",
            "Epoch 71/100\n",
            "13/13 [==============================] - 5s 378ms/step - loss: 7.5792e-04 - val_loss: 5.7754e-04\n",
            "Epoch 72/100\n",
            "13/13 [==============================] - 5s 375ms/step - loss: 6.4702e-04 - val_loss: 5.0609e-04\n",
            "Epoch 73/100\n",
            "13/13 [==============================] - 5s 375ms/step - loss: 6.6770e-04 - val_loss: 5.2780e-04\n",
            "Epoch 74/100\n",
            "13/13 [==============================] - 5s 378ms/step - loss: 6.3359e-04 - val_loss: 5.0886e-04\n",
            "Epoch 75/100\n",
            "13/13 [==============================] - 5s 376ms/step - loss: 6.0174e-04 - val_loss: 4.8490e-04\n",
            "Epoch 76/100\n",
            "13/13 [==============================] - 5s 379ms/step - loss: 6.2029e-04 - val_loss: 4.8487e-04\n",
            "Epoch 77/100\n",
            "13/13 [==============================] - 5s 377ms/step - loss: 6.1145e-04 - val_loss: 4.8403e-04\n",
            "Epoch 78/100\n",
            "13/13 [==============================] - 5s 379ms/step - loss: 5.7068e-04 - val_loss: 4.7428e-04\n",
            "Epoch 79/100\n",
            "13/13 [==============================] - 5s 379ms/step - loss: 5.6421e-04 - val_loss: 4.7525e-04\n",
            "Epoch 80/100\n",
            "13/13 [==============================] - 5s 381ms/step - loss: 6.1427e-04 - val_loss: 4.3797e-04\n",
            "Epoch 81/100\n",
            "13/13 [==============================] - 5s 380ms/step - loss: 5.6527e-04 - val_loss: 4.2498e-04\n",
            "Epoch 82/100\n",
            "13/13 [==============================] - 5s 379ms/step - loss: 5.2242e-04 - val_loss: 4.1793e-04\n",
            "Epoch 83/100\n",
            "13/13 [==============================] - 5s 375ms/step - loss: 5.5265e-04 - val_loss: 4.6889e-04\n",
            "Epoch 84/100\n",
            "13/13 [==============================] - 5s 376ms/step - loss: 5.6826e-04 - val_loss: 4.5673e-04\n",
            "Epoch 85/100\n",
            "13/13 [==============================] - 5s 377ms/step - loss: 4.9242e-04 - val_loss: 3.9308e-04\n",
            "Epoch 86/100\n",
            "13/13 [==============================] - 5s 378ms/step - loss: 4.9520e-04 - val_loss: 4.0167e-04\n",
            "Epoch 87/100\n",
            "13/13 [==============================] - 5s 380ms/step - loss: 4.9496e-04 - val_loss: 4.9856e-04\n",
            "Epoch 88/100\n",
            "13/13 [==============================] - 5s 383ms/step - loss: 5.0341e-04 - val_loss: 4.2791e-04\n",
            "Epoch 89/100\n",
            "13/13 [==============================] - 5s 377ms/step - loss: 4.3997e-04 - val_loss: 3.9661e-04\n",
            "Epoch 90/100\n",
            "13/13 [==============================] - 5s 381ms/step - loss: 4.4463e-04 - val_loss: 3.6320e-04\n",
            "Epoch 91/100\n",
            "13/13 [==============================] - 5s 379ms/step - loss: 4.4477e-04 - val_loss: 3.4588e-04\n",
            "Epoch 92/100\n",
            "13/13 [==============================] - 5s 381ms/step - loss: 4.7352e-04 - val_loss: 4.6586e-04\n",
            "Epoch 93/100\n",
            "13/13 [==============================] - 5s 377ms/step - loss: 4.5948e-04 - val_loss: 3.4141e-04\n",
            "Epoch 94/100\n",
            "13/13 [==============================] - 5s 380ms/step - loss: 4.5081e-04 - val_loss: 3.4466e-04\n",
            "Epoch 95/100\n",
            "13/13 [==============================] - 5s 380ms/step - loss: 4.3437e-04 - val_loss: 3.8264e-04\n",
            "Epoch 96/100\n",
            "13/13 [==============================] - 5s 380ms/step - loss: 4.3876e-04 - val_loss: 3.1966e-04\n",
            "Epoch 97/100\n",
            "13/13 [==============================] - 5s 378ms/step - loss: 3.9979e-04 - val_loss: 3.2071e-04\n",
            "Epoch 98/100\n",
            "13/13 [==============================] - 5s 378ms/step - loss: 3.9228e-04 - val_loss: 3.0715e-04\n",
            "Epoch 99/100\n",
            "13/13 [==============================] - 5s 377ms/step - loss: 3.9748e-04 - val_loss: 3.9353e-04\n",
            "Epoch 100/100\n",
            "13/13 [==============================] - 5s 378ms/step - loss: 3.9947e-04 - val_loss: 3.1314e-04\n"
          ]
        },
        {
          "output_type": "execute_result",
          "data": {
            "text/plain": [
              "<tensorflow.python.keras.callbacks.History at 0x7f3002876f50>"
            ]
          },
          "metadata": {},
          "execution_count": 29
        }
      ]
    },
    {
      "cell_type": "code",
      "metadata": {
        "id": "PWlmt5F4N9xM"
      },
      "source": [
        "train_predict = model.predict(x_train)\n",
        "test_predict = model.predict(x_test)\n",
        "\n"
      ],
      "execution_count": 30,
      "outputs": []
    },
    {
      "cell_type": "code",
      "metadata": {
        "id": "8w8Z-GQTOBUt"
      },
      "source": [
        "train_predict = scaler.inverse_transform(train_predict)\n",
        "test_predict = scaler.inverse_transform(test_predict)\n"
      ],
      "execution_count": 31,
      "outputs": []
    },
    {
      "cell_type": "code",
      "metadata": {
        "colab": {
          "base_uri": "https://localhost:8080/"
        },
        "id": "31rv5hRsOGbs",
        "outputId": "2f37953f-db38-48ba-f82d-eb8e63c2bca4"
      },
      "source": [
        "math.sqrt(mean_squared_error(y_train, train_predict))\n",
        "\n"
      ],
      "execution_count": 32,
      "outputs": [
        {
          "output_type": "execute_result",
          "data": {
            "text/plain": [
              "173.1007788048443"
            ]
          },
          "metadata": {},
          "execution_count": 32
        }
      ]
    },
    {
      "cell_type": "code",
      "metadata": {
        "colab": {
          "base_uri": "https://localhost:8080/"
        },
        "id": "J4PZle19OPl7",
        "outputId": "d5263d13-11b0-4097-f7bb-707318eabd74"
      },
      "source": [
        "math.sqrt(mean_squared_error(y_test, test_predict))\n"
      ],
      "execution_count": 33,
      "outputs": [
        {
          "output_type": "execute_result",
          "data": {
            "text/plain": [
              "151.55293457194503"
            ]
          },
          "metadata": {},
          "execution_count": 33
        }
      ]
    },
    {
      "cell_type": "code",
      "metadata": {
        "colab": {
          "base_uri": "https://localhost:8080/",
          "height": 265
        },
        "id": "anISQV9mORQ0",
        "outputId": "75c9f31a-4fbb-4d61-bcb7-a3ca690529b2"
      },
      "source": [
        "look_back = 100\n",
        "trainPredictPlot = np.empty_like(df_close)\n",
        "trainPredictPlot[:,:] = np.nan\n",
        "trainPredictPlot[look_back:len(train_predict) + look_back, :] = train_predict\n",
        "\n",
        "\n",
        "testPredictPlot = np.empty_like(df_close)\n",
        "testPredictPlot[:,:] = np.nan\n",
        "testPredictPlot[len(train_predict) + (look_back * 2)+1:len(df_close) - 1, :] = test_predict\n",
        "\n",
        "plt.plot(scaler.inverse_transform(df_close))\n",
        "plt.plot(trainPredictPlot)\n",
        "plt.plot(testPredictPlot)\n",
        "plt.show()"
      ],
      "execution_count": 34,
      "outputs": [
        {
          "output_type": "display_data",
          "data": {
            "image/png": "[encoded data removed]",
            "text/plain": [
              "<Figure size 432x288 with 1 Axes>"
            ]
          },
          "metadata": {
            "needs_background": "light"
          }
        }
      ]
    },
    {
      "cell_type": "code",
      "metadata": {
        "id": "_mL1UPtfP6Q5"
      },
      "source": [
        "\n"
      ],
      "execution_count": 41,
      "outputs": []
    }
  ]
}